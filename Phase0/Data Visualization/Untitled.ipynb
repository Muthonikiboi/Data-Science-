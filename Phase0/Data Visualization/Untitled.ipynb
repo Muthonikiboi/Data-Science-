{
 "cells": [
  {
   "cell_type": "code",
   "execution_count": 1,
   "metadata": {},
   "outputs": [],
   "source": [
    "import pandas as pd"
   ]
  },
  {
   "cell_type": "code",
   "execution_count": 2,
   "metadata": {},
   "outputs": [],
   "source": [
    "df = pd.read_csv('./Student Details - Sheet1.csv')"
   ]
  },
  {
   "cell_type": "code",
   "execution_count": 3,
   "metadata": {},
   "outputs": [
    {
     "data": {
      "text/html": [
       "<div>\n",
       "<style scoped>\n",
       "    .dataframe tbody tr th:only-of-type {\n",
       "        vertical-align: middle;\n",
       "    }\n",
       "\n",
       "    .dataframe tbody tr th {\n",
       "        vertical-align: top;\n",
       "    }\n",
       "\n",
       "    .dataframe thead th {\n",
       "        text-align: right;\n",
       "    }\n",
       "</style>\n",
       "<table border=\"1\" class=\"dataframe\">\n",
       "  <thead>\n",
       "    <tr style=\"text-align: right;\">\n",
       "      <th></th>\n",
       "      <th>name</th>\n",
       "      <th>email</th>\n",
       "      <th>age</th>\n",
       "      <th>course</th>\n",
       "    </tr>\n",
       "  </thead>\n",
       "  <tbody>\n",
       "    <tr>\n",
       "      <th>0</th>\n",
       "      <td>John Doe</td>\n",
       "      <td>john.doe@gmail.com</td>\n",
       "      <td>20</td>\n",
       "      <td>Computer Science</td>\n",
       "    </tr>\n",
       "    <tr>\n",
       "      <th>1</th>\n",
       "      <td>Jane Smith</td>\n",
       "      <td>jane.smith@gmail.com</td>\n",
       "      <td>22</td>\n",
       "      <td>Data Science</td>\n",
       "    </tr>\n",
       "    <tr>\n",
       "      <th>2</th>\n",
       "      <td>Alice Johnson</td>\n",
       "      <td>alice.johnson@gmail.com</td>\n",
       "      <td>24</td>\n",
       "      <td>Cyber Security</td>\n",
       "    </tr>\n",
       "    <tr>\n",
       "      <th>3</th>\n",
       "      <td>Kamau Kamau</td>\n",
       "      <td>kamau.kamau@gmail.com</td>\n",
       "      <td>26</td>\n",
       "      <td>Acturial Science</td>\n",
       "    </tr>\n",
       "    <tr>\n",
       "      <th>4</th>\n",
       "      <td>Francis Ndirangu</td>\n",
       "      <td>francis.ndirangu@gmail.com</td>\n",
       "      <td>28</td>\n",
       "      <td>Mechanical Engineer</td>\n",
       "    </tr>\n",
       "  </tbody>\n",
       "</table>\n",
       "</div>"
      ],
      "text/plain": [
       "               name                      email   age                course\n",
       "0          John Doe          john.doe@gmail.com    20     Computer Science\n",
       "1        Jane Smith        jane.smith@gmail.com    22         Data Science\n",
       "2     Alice Johnson     alice.johnson@gmail.com    24       Cyber Security\n",
       "3       Kamau Kamau       kamau.kamau@gmail.com    26     Acturial Science\n",
       "4  Francis Ndirangu  francis.ndirangu@gmail.com    28  Mechanical Engineer"
      ]
     },
     "execution_count": 3,
     "metadata": {},
     "output_type": "execute_result"
    }
   ],
   "source": [
    "df.head()"
   ]
  },
  {
   "cell_type": "code",
   "execution_count": 4,
   "metadata": {},
   "outputs": [],
   "source": [
    "path=('./Student Details - Sheet1.csv')"
   ]
  },
  {
   "cell_type": "code",
   "execution_count": 5,
   "metadata": {},
   "outputs": [],
   "source": [
    "def get_student_details(path):\n",
    "    df = pd.read_csv(path)\n",
    "    return df"
   ]
  },
  {
   "cell_type": "code",
   "execution_count": 6,
   "metadata": {},
   "outputs": [
    {
     "data": {
      "text/html": [
       "<div>\n",
       "<style scoped>\n",
       "    .dataframe tbody tr th:only-of-type {\n",
       "        vertical-align: middle;\n",
       "    }\n",
       "\n",
       "    .dataframe tbody tr th {\n",
       "        vertical-align: top;\n",
       "    }\n",
       "\n",
       "    .dataframe thead th {\n",
       "        text-align: right;\n",
       "    }\n",
       "</style>\n",
       "<table border=\"1\" class=\"dataframe\">\n",
       "  <thead>\n",
       "    <tr style=\"text-align: right;\">\n",
       "      <th></th>\n",
       "      <th>name</th>\n",
       "      <th>email</th>\n",
       "      <th>age</th>\n",
       "      <th>course</th>\n",
       "    </tr>\n",
       "  </thead>\n",
       "  <tbody>\n",
       "    <tr>\n",
       "      <th>0</th>\n",
       "      <td>John Doe</td>\n",
       "      <td>john.doe@gmail.com</td>\n",
       "      <td>20</td>\n",
       "      <td>Computer Science</td>\n",
       "    </tr>\n",
       "    <tr>\n",
       "      <th>1</th>\n",
       "      <td>Jane Smith</td>\n",
       "      <td>jane.smith@gmail.com</td>\n",
       "      <td>22</td>\n",
       "      <td>Data Science</td>\n",
       "    </tr>\n",
       "    <tr>\n",
       "      <th>2</th>\n",
       "      <td>Alice Johnson</td>\n",
       "      <td>alice.johnson@gmail.com</td>\n",
       "      <td>24</td>\n",
       "      <td>Cyber Security</td>\n",
       "    </tr>\n",
       "    <tr>\n",
       "      <th>3</th>\n",
       "      <td>Kamau Kamau</td>\n",
       "      <td>kamau.kamau@gmail.com</td>\n",
       "      <td>26</td>\n",
       "      <td>Acturial Science</td>\n",
       "    </tr>\n",
       "    <tr>\n",
       "      <th>4</th>\n",
       "      <td>Francis Ndirangu</td>\n",
       "      <td>francis.ndirangu@gmail.com</td>\n",
       "      <td>28</td>\n",
       "      <td>Mechanical Engineer</td>\n",
       "    </tr>\n",
       "  </tbody>\n",
       "</table>\n",
       "</div>"
      ],
      "text/plain": [
       "               name                      email   age                course\n",
       "0          John Doe          john.doe@gmail.com    20     Computer Science\n",
       "1        Jane Smith        jane.smith@gmail.com    22         Data Science\n",
       "2     Alice Johnson     alice.johnson@gmail.com    24       Cyber Security\n",
       "3       Kamau Kamau       kamau.kamau@gmail.com    26     Acturial Science\n",
       "4  Francis Ndirangu  francis.ndirangu@gmail.com    28  Mechanical Engineer"
      ]
     },
     "execution_count": 6,
     "metadata": {},
     "output_type": "execute_result"
    }
   ],
   "source": [
    "get_student_details('./Student Details - Sheet1.csv')"
   ]
  },
  {
   "cell_type": "code",
   "execution_count": 7,
   "metadata": {},
   "outputs": [
    {
     "data": {
      "text/plain": [
       "0            John Doe\n",
       "1          Jane Smith\n",
       "2       Alice Johnson\n",
       "3         Kamau Kamau\n",
       "4    Francis Ndirangu\n",
       "Name: name, dtype: object"
      ]
     },
     "execution_count": 7,
     "metadata": {},
     "output_type": "execute_result"
    }
   ],
   "source": [
    "data= get_student_details('./Student Details - Sheet1.csv')\n",
    "data['name']"
   ]
  },
  {
   "cell_type": "code",
   "execution_count": 8,
   "metadata": {},
   "outputs": [],
   "source": [
    "def get_student_details(path):\n",
    "    df = pd.read_csv(('./Student Details - Sheet1.csv'))\n",
    "    student_details = df.to_dict(orient = 'records')\n",
    "    return student_details"
   ]
  },
  {
   "cell_type": "code",
   "execution_count": 9,
   "metadata": {},
   "outputs": [
    {
     "name": "stdout",
     "output_type": "stream",
     "text": [
      "[{'name': 'John Doe', 'email ': 'john.doe@gmail.com', 'age ': 20, 'course': 'Computer Science'}, {'name': 'Jane Smith', 'email ': 'jane.smith@gmail.com', 'age ': 22, 'course': 'Data Science'}, {'name': 'Alice Johnson', 'email ': 'alice.johnson@gmail.com', 'age ': 24, 'course': 'Cyber Security'}, {'name': 'Kamau Kamau', 'email ': 'kamau.kamau@gmail.com', 'age ': 26, 'course': 'Acturial Science'}, {'name': 'Francis Ndirangu', 'email ': 'francis.ndirangu@gmail.com', 'age ': 28, 'course': 'Mechanical Engineer'}]\n"
     ]
    }
   ],
   "source": [
    "def print_student_details():\n",
    "    student_details = get_student_details('./Student Details - Sheet1.csv')\n",
    "    print(student_details)\n",
    "print_student_details()"
   ]
  }
 ],
 "metadata": {
  "kernelspec": {
   "display_name": "Python 3",
   "language": "python",
   "name": "python3"
  },
  "language_info": {
   "codemirror_mode": {
    "name": "ipython",
    "version": 3
   },
   "file_extension": ".py",
   "mimetype": "text/x-python",
   "name": "python",
   "nbconvert_exporter": "python",
   "pygments_lexer": "ipython3",
   "version": "3.8.5"
  }
 },
 "nbformat": 4,
 "nbformat_minor": 5
}
