{
 "cells": [
  {
   "cell_type": "markdown",
   "id": "2e5cd5f4",
   "metadata": {},
   "source": [
    "# Connecting to and Querying SQL Databases"
   ]
  },
  {
   "cell_type": "markdown",
   "id": "0f2379c6",
   "metadata": {},
   "source": [
    "### 1.Create new Database and open a connection"
   ]
  },
  {
   "cell_type": "code",
   "execution_count": 4,
   "id": "d99c633d",
   "metadata": {},
   "outputs": [],
   "source": [
    "import sqlite3\n",
    "con = sqlite3.connect(\"Sample.db\")"
   ]
  },
  {
   "cell_type": "markdown",
   "id": "80e0dfb9",
   "metadata": {},
   "source": [
    "### 2.Cursor for Excecution"
   ]
  },
  {
   "cell_type": "code",
   "execution_count": 5,
   "id": "6bed63ac",
   "metadata": {},
   "outputs": [],
   "source": [
    "cur = con.cursor()"
   ]
  },
  {
   "cell_type": "markdown",
   "id": "9ad8fdda",
   "metadata": {},
   "source": [
    "### 3.Create Table and columns"
   ]
  },
  {
   "cell_type": "code",
   "execution_count": 6,
   "id": "85b876b0",
   "metadata": {},
   "outputs": [
    {
     "data": {
      "text/plain": [
       "<sqlite3.Cursor at 0x7235805a0f80>"
      ]
     },
     "execution_count": 6,
     "metadata": {},
     "output_type": "execute_result"
    }
   ],
   "source": [
    "cur.execute(\n",
    " \"\"\"\n",
    "CREATE TABLE movies(movieName, productionYear, rating)\n",
    " \"\"\"\n",
    ")"
   ]
  },
  {
   "cell_type": "markdown",
   "id": "4722c99e",
   "metadata": {},
   "source": [
    "### 4.Check if the table exists"
   ]
  },
  {
   "cell_type": "code",
   "execution_count": 7,
   "id": "dcf210ca",
   "metadata": {},
   "outputs": [
    {
     "data": {
      "text/plain": [
       "('movies',)"
      ]
     },
     "execution_count": 7,
     "metadata": {},
     "output_type": "execute_result"
    }
   ],
   "source": [
    "res = cur.execute(\"\"\"SELECT name FROM sqlite_master\"\"\")\n",
    "res.fetchone()"
   ]
  },
  {
   "cell_type": "markdown",
   "id": "affe329b",
   "metadata": {},
   "source": [
    "### 5.Insert data into the table"
   ]
  },
  {
   "cell_type": "code",
   "execution_count": 8,
   "id": "36752608",
   "metadata": {},
   "outputs": [
    {
     "data": {
      "text/plain": [
       "<sqlite3.Cursor at 0x7235805a0f80>"
      ]
     },
     "execution_count": 8,
     "metadata": {},
     "output_type": "execute_result"
    }
   ],
   "source": [
    "cur.execute(\"\"\"\n",
    "    INSERT INTO movies VALUES\n",
    "        ('Monty Python and the Holy Grail', 1975, 8.2),\n",
    "        ('And Now for Something Completely Different', 1971, 7.5)\n",
    "\"\"\")"
   ]
  },
  {
   "cell_type": "markdown",
   "id": "e6fd08b8",
   "metadata": {},
   "source": [
    "### 6.Commit the transaction"
   ]
  },
  {
   "cell_type": "code",
   "execution_count": 9,
   "id": "88f1b11f",
   "metadata": {},
   "outputs": [
    {
     "data": {
      "text/plain": [
       "<function Connection.commit>"
      ]
     },
     "execution_count": 9,
     "metadata": {},
     "output_type": "execute_result"
    }
   ],
   "source": [
    "con.commit"
   ]
  },
  {
   "cell_type": "markdown",
   "id": "336896d0",
   "metadata": {},
   "source": [
    "### 7.Other commands to see our tables"
   ]
  },
  {
   "cell_type": "code",
   "execution_count": 10,
   "id": "fb7a5352",
   "metadata": {},
   "outputs": [
    {
     "name": "stdout",
     "output_type": "stream",
     "text": [
      "('Monty Python and the Holy Grail', 1975, 8.2)\n",
      "('And Now for Something Completely Different', 1971, 7.5)\n"
     ]
    }
   ],
   "source": [
    "for row in cur.execute(\"\"\"SELECT * FROM movies\"\"\"):\n",
    "  print(row)"
   ]
  },
  {
   "cell_type": "code",
   "execution_count": 11,
   "id": "9426e4de",
   "metadata": {},
   "outputs": [
    {
     "name": "stdout",
     "output_type": "stream",
     "text": [
      "(1971, 'And Now for Something Completely Different')\n",
      "(1975, 'Monty Python and the Holy Grail')\n"
     ]
    }
   ],
   "source": [
    "for row in cur.execute(\"SELECT productionYear, movieName FROM movies ORDER BY productionYear\"):\n",
    "    print(row)"
   ]
  },
  {
   "cell_type": "code",
   "execution_count": 14,
   "id": "4313a4e5",
   "metadata": {},
   "outputs": [
    {
     "data": {
      "text/html": [
       "<div>\n",
       "<style scoped>\n",
       "    .dataframe tbody tr th:only-of-type {\n",
       "        vertical-align: middle;\n",
       "    }\n",
       "\n",
       "    .dataframe tbody tr th {\n",
       "        vertical-align: top;\n",
       "    }\n",
       "\n",
       "    .dataframe thead th {\n",
       "        text-align: right;\n",
       "    }\n",
       "</style>\n",
       "<table border=\"1\" class=\"dataframe\">\n",
       "  <thead>\n",
       "    <tr style=\"text-align: right;\">\n",
       "      <th></th>\n",
       "      <th>movieName</th>\n",
       "      <th>productionYear</th>\n",
       "      <th>rating</th>\n",
       "    </tr>\n",
       "  </thead>\n",
       "  <tbody>\n",
       "    <tr>\n",
       "      <th>0</th>\n",
       "      <td>Monty Python and the Holy Grail</td>\n",
       "      <td>1975</td>\n",
       "      <td>8.2</td>\n",
       "    </tr>\n",
       "    <tr>\n",
       "      <th>1</th>\n",
       "      <td>And Now for Something Completely Different</td>\n",
       "      <td>1971</td>\n",
       "      <td>7.5</td>\n",
       "    </tr>\n",
       "  </tbody>\n",
       "</table>\n",
       "</div>"
      ],
      "text/plain": [
       "                                    movieName  productionYear  rating\n",
       "0             Monty Python and the Holy Grail            1975     8.2\n",
       "1  And Now for Something Completely Different            1971     7.5"
      ]
     },
     "execution_count": 14,
     "metadata": {},
     "output_type": "execute_result"
    }
   ],
   "source": [
    "import pandas as pd\n",
    "\n",
    "pd.DataFrame(\n",
    "  data = cur.execute(\"\"\"SELECT * FROM movies\"\"\").fetchall(),\n",
    "  columns=[x[0] for x in cur.description]\n",
    ")"
   ]
  }
 ],
 "metadata": {
  "kernelspec": {
   "display_name": "learn-env",
   "language": "python",
   "name": "python3"
  },
  "language_info": {
   "codemirror_mode": {
    "name": "ipython",
    "version": 3
   },
   "file_extension": ".py",
   "mimetype": "text/x-python",
   "name": "python",
   "nbconvert_exporter": "python",
   "pygments_lexer": "ipython3",
   "version": "3.8.5"
  }
 },
 "nbformat": 4,
 "nbformat_minor": 5
}
