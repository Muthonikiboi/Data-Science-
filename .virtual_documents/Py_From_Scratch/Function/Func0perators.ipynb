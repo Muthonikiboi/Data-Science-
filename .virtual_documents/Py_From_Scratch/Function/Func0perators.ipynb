


title("hello")





print("hello, im uppercased".upper())
print("HELLO, IM LOWERCASED".lower())
print("hello, im capitalized".capitalize())





list_append = [1,2,3,4]
list_append.append(5)
print(list_append)


list_pop = [4,5,6,7]
list_pop.pop()
print(list_pop)


list_one = [1,2,3]
list_two = [4,5,6]
list_one.extend(list_two)
print(list_one)





dictionary = {'name-key': 'example-dict', 'key_2': 'value_2', 'num_keys': 3}
print(dictionary.keys())
print(dictionary.values())





dir(str)








print()


print(["this", "is", "a", "list"], {"this-is": 'a-dictionary'}, "this is a string and third argument")





type({})


type("")





len({"this-is": 'a-dictionary', "with-two": "key value pairs"})


len(["this", "is", 1, "list", "with", 7, "elements"])





sum([10, 11, 13, 14, 9, 14.5])





min(["this", "is", "a", "list"])


max([10, 11, 13, 14, 9, 14.5])





print('1.', True != True) # False
print('2.', False == True) # False
print('3.', 10 == "10") # False
print('4.', "hi" != "HI") # True
print('5.', type(0) == int) # True
print('6.', ["hi"] == ["hi"]) # True
print('7.', "Thomas" != "Samantha") # True





print('1.', True > True) # False
print('2.', True >= True) # True
print('3.', 10 <= 10) # True
print('4.', 7 < 7) # False
print('5.', 10 < 100) # True
print('6.', 100 > 101) # False
print('7.', "APPLE" < "apple") # True
print('8.', "aaron" > "alexa") # False
print('9.', "Terrance" > "Teresa") # True








print("1.", 2 and 0) #
print("2.", False and 2) #
print("3.", True and 2) #
print("4.", 2 and 3) #
print("5.", 2 or []) #
print("6.", 0 or []) #
print("7.", not False) #
print("8.", not True) #
print("9.", not []) #
print("10.", not 0) #
print("11.", not 100) #








x = {'name': "example"}
b = x
c = {'name': "example"}
print("1.", {} is {}) #
print("1A.", {} == {}) #
print("2.", [] is []) #
print("3.", "Hi" is "Hi") #
print("4.", ["same"] is ["same"]) #
print("4A.", ["same"] == ["same"]) #
print("5.", 9 is not 10) #
print("6.", x is b) #
print("7.", b is c) #
print("7A.", b == c) #
print("8.", x is not c) #





my_condition = True
value = 10 if my_condition else 1000
print(value)


# let's say we are receiving two variables with different
# values and we want to assign the higher value to a new variable
x = 12
y = 20
new_variable = x if x > y else y
# here we are saying, take the value of x if it is greater than the value of y. else take the value of y
# since x > y evaluates to false, the ternary returns the value of the variable after the else statement or y
print(new_variable)



