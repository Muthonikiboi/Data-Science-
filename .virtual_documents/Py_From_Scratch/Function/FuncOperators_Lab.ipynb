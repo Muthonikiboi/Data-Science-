


# Desired output: "HELLO, THERE"
yell_hello = "hello, there".upper()
yell_hello


# Desired output: "psst, hey"
whisper_hey = "PSST, HEY".lower()
whisper_hey


# Desired output: "Learn. Love. Code"
flatiron_mantra = "LEARN. LOVE. CODE.".capitalize()
flatiron_mantra


# Desired output: str
type_string = "i'm a string"
type(type_string)


# Desired output: list
type_list = ["i'm", "a", "list"]
type(type_list)


# Desired output: 3
length_of_list = ["i'm", "a", "list"]
len(length_of_list)


# Desired output: "list"
longest_word_in_list = ["i'm", "a", "list"]
type(longest_word_in_list)


# Desired output: 1
smallest_number = [1, 3, 4, 78]
smallest_number = min(smallest_number)
smallest_number


# Desired output: 11
sum_of_numbers = [1, 2, 3, 5]
sum_of_numbers = sum(sum_of_numbers)
sum_of_numbers








boolean_compare = True != True # False
boolean_compare2 = False == True # False
print(boolean_compare, boolean_compare2)


number_compare = 10 == 10 # True
number_compare2 = -20 < 30 # True
number_compare3 = 4 >= 5 # False
print(number_compare, number_compare2, number_compare3)


string_compare = "stacy" != "STACY" # True
string_compare2 = "hey i love python!" == "hi love python" # False
string_compare3 = "this string is bigger than the other" != "that is true" # True
print(string_compare, string_compare2, string_compare3)





list_compare = [0, 0, 0, 0] != [0, 0, 0] # True
list_compare2 = [1, 0, 0] != [0, 0, 0] # True
list_compare3 = [0, 0, 0] == [0, 0, 3] # False
list_compare4 = [0, 0, 3, 0] != [0, 0, 3] # True
list_compare5 = [0, 0, 4, 0] == [0, 0, 3] # False
print(list_compare, list_compare2, list_compare3, list_compare4, list_compare5)














logical_compare = 2 or [] # []
logical_compare2 = not [] # True
logical_compare3 = 0 or [] # 0
logical_compare4 = True and 2 # 2
logical_compare5 = 2 or 3 # 2
logical_compare6 = not True # False
logical_compare7 = False and 2 # False
print(logical_compare, logical_compare2, logical_compare3, logical_compare4,
      logical_compare5, logical_compare6, logical_compare7)





a = []
b = a
identity_compare = {} or {} # False
identity_compare2 = a and b # True
identity_compare3 = b and [] # True
identity_compare4 = 9 and 10 # True
identity_compare5 = "Same" or "Same" # False
identity_compare6 = [1,3,4] and [1,2,3] # False
print(identity_compare, identity_compare2, identity_compare3,
      identity_compare4, identity_compare5, identity_compare6)



