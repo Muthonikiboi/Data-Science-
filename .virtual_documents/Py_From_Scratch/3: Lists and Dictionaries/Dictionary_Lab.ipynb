


greenville = {'Area': 68, 'City': 'Greenville', 'Country': 'USA', 'Population': 84554}





greenville_population = None # change None
greenville_population = greenville["Population"]
greenville_population # 84554





greenville_area = None
greenville_area = greenville["Area"]
greenville_area # 68





city_keys = None
city_keys = greenville.keys()
city_keys # ['Area', 'City', 'Country', 'Population']





city_values = None
city_values = greenville.values()
city_values # [68, 'Greenville', 'USA', 84554]





import pandas as pd
file_name = './cities.xlsx'
travel_df = pd.read_excel(file_name)
cities = travel_df.to_dict('records')
travel_df





cities





salina = None
salina = cities[-3]
salina
# {'Area': 27, 'City': 'Salina Island', 'Country': 'Italy', 'Population': 4000}





los_cabos_pop = None
los_cabos_pop = cities[3]
los_cabos_pop # 287651





city_count = None
city_count = len(cities)
city_count # 12





cities[11]['City'] = None
cities[11]['City'] = "PyeongChang"
cities[11]['City'] # 'PyeongChang'


pyeongchang_values = None
pyeongchang_values = cities[11].values() 
# ['PyeongChang', 'South Korea', 2581000, 3194]
pyeongchang_values


type(pyeongchang_values) # list





pyeongchang_keys = None

pyeongchang_keys = cities[11].keys()
# ['City', 'Country', 'Population', 'Area']
#type(pyeongchang_keys) # list
pyeongchang_keys



