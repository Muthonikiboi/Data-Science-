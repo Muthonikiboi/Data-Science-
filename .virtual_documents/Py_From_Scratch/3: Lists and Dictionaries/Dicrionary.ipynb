


friends = {'name': 'Friends', 'genre': 'sitcom', 'no_of_seasons': 10}





friends


friends['no_of_seasons']











friends





friends['no_of_episodes'] = 236


friends





friends[14] = 'some value'


friends[14]








del friends[14]





friends





help(dict) #See all of the methods available to dictionary objects


# Add a dot (.) after 'friends' and press tab to see all of the available methods
friends





#Pulling up documentation for a specific method
friends.get?








creators = ['David Crane', 'Marta Kauffman']





friends['creators'] = ['David Crane', 'Marta Kauffman']


friends


friends['creators']





david = friends['creators'][0]

















friends





seinfeld = {'name': 'Seinfeld', 'creators': ['Larry David', 'Jerry Seinfeld'], 'genre': 'sitcom', 'no_of_seasons': 10, 'no_of_episodes': 180}


seinfeld





tv_shows = [friends, seinfeld]
tv_shows





tv_shows[1]





tv_shows[1]['creators']





tv_shows[1]['creators'][1]





jerry = tv_shows[1]['creators'][1]
jerry



