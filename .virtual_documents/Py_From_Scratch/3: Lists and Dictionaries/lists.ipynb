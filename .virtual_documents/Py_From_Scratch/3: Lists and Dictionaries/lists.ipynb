


['Solta', 'Greenville', 'Buenos Aires', 'Los Cabos', 'Walla Walla Valley', 'Marakesh', 'Albuquerque', 'Archipelago Sea', 'Iguazu Falls', 'Salina Island', 'Toronto', 'Pyeongchang']





['Croatia', 'USA', 'Argentina', 'Mexico', 'USA', 'Morocco', 'New Mexico', 'Finland', 'Argentina', 'Italy', 'Canada', 'South Korea']





top_travel_cities = ['Solta', 'Greenville', 'Buenos Aires', 'Los Cabos', 'Walla Walla Valley', 'Marakesh', 'Albuquerque', 'Archipelago Sea', 'Iguazu Falls', 'Salina Island', 'Toronto', 'Pyeongchang']


top_travel_cities


countries_of_top_cities = ['Croatia', 'USA', 'Argentina', 'Mexico', 'USA', 'Morocco', 'New Mexico', 'Finland', 'Argentina', 'Italy', 'Canada', 'South Korea']





top_travel_cities


top_travel_cities[0]





top_travel_cities[2]





top_travel_cities[-1]





top_travel_cities[-2]





top_canadian_city = top_travel_cities[-2]
top_canadian_city


type(top_canadian_city)





top_travel_cities


type(top_travel_cities)





top_travel_cities[0:2]





top_travel_cities





top_travel_cities[4:5]





top_travel_cities[4:6]





top_travel_cities





top_two = top_travel_cities[0:2]
top_two





top_travel_cities.append('San Antonio')





top_travel_cities





top_travel_cities.append('San Antonio')
top_travel_cities





top_travel_cities.pop()





top_travel_cities[4]


top_travel_cities[4] = 5


top_travel_cities





top_travel_cities[4] = 'Walla Walla Valley'





top_travel_cities





top_travel_cities.append('Solta')
top_travel_cities





unique_travel_cities = set(top_travel_cities)
unique_travel_cities





top_travel_cities





type(unique_travel_cities)





unique_travel_cities = list(unique_travel_cities)


type(unique_travel_cities)





unique_travel_cities





len(unique_travel_cities)


len(top_travel_cities)






