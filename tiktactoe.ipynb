{
 "cells": [
  {
   "cell_type": "code",
   "execution_count": null,
   "metadata": {},
   "outputs": [
    {
     "name": "stdout",
     "output_type": "stream",
     "text": [
      "-------------\n",
      "|   |   |   |\n",
      "-------------\n",
      "|   |   |   |\n",
      "-------------\n",
      "|   |   |   |\n",
      "-------------\n"
     ]
    }
   ],
   "source": [
    "# Tic-Tac-Toe\n",
    "\n",
    "# Initialize the board\n",
    "board = [' ' for _ in range(9)]\n",
    "\n",
    "# Function to print the board\n",
    "def print_board():\n",
    "    print('-------------')\n",
    "    print('|', board[0], '|', board[1], '|', board[2], '|')\n",
    "    print('-------------')\n",
    "    print('|', board[3], '|', board[4], '|', board[5], '|')\n",
    "    print('-------------')\n",
    "    print('|', board[6], '|', board[7], '|', board[8], '|')\n",
    "    print('-------------')\n",
    "\n",
    "# Function to check if a player has won\n",
    "def check_win(player):\n",
    "    # Check rows\n",
    "    for i in range(0, 9, 3):\n",
    "        if board[i] == board[i+1] == board[i+2] == player:\n",
    "            return True\n",
    "    # Check columns\n",
    "    for i in range(3):\n",
    "        if board[i] == board[i+3] == board[i+6] == player:\n",
    "            return True\n",
    "    # Check diagonals\n",
    "    if board[0] == board[4] == board[8] == player:\n",
    "        return True\n",
    "    if board[2] == board[4] == board[6] == player:\n",
    "        return True\n",
    "    return False\n",
    "\n",
    "# Function to play the game\n",
    "def play_game():\n",
    "    current_player = 'X'\n",
    "    game_over = False\n",
    "\n",
    "    while not game_over:\n",
    "        print_board()\n",
    "        position = int(input(\"Enter the position (1-9) to place your marker: \")) - 1\n",
    "\n",
    "        if board[position] == ' ':\n",
    "            board[position] = current_player\n",
    "            if check_win(current_player):\n",
    "                print_board()\n",
    "                print(\"Player\", current_player, \"wins!\")\n",
    "                game_over = True\n",
    "            elif ' ' not in board:\n",
    "                print_board()\n",
    "                print(\"It's a tie!\")\n",
    "                game_over = True\n",
    "            else:\n",
    "                current_player = 'O' if current_player == 'X' else 'X'\n",
    "        else:\n",
    "            print(\"That position is already filled. Please choose another position.\")\n",
    "\n",
    "# Start the game\n",
    "play_game()\n"
   ]
  }
 ],
 "metadata": {
  "kernelspec": {
   "display_name": "Python 3",
   "language": "python",
   "name": "python3"
  },
  "language_info": {
   "codemirror_mode": {
    "name": "ipython",
    "version": 3
   },
   "file_extension": ".py",
   "mimetype": "text/x-python",
   "name": "python",
   "nbconvert_exporter": "python",
   "pygments_lexer": "ipython3",
   "version": "3.7.0"
  }
 },
 "nbformat": 4,
 "nbformat_minor": 2
}
