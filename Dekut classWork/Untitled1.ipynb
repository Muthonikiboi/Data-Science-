{
 "cells": [
  {
   "cell_type": "code",
   "execution_count": 1,
   "metadata": {},
   "outputs": [
    {
     "name": "stdout",
     "output_type": "stream",
     "text": [
      "Alex\n",
      "Alex\n",
      "Alex\n"
     ]
    }
   ],
   "source": [
    "class Father:\n",
    "    def __init__(self, name):\n",
    "        self.name = name\n",
    "\n",
    "class Mother:\n",
    "    def __init__(self, name):\n",
    "        self.name = name\n",
    "\n",
    "class Child(Father, Mother):\n",
    "    def __init__(self, name, father, mother):\n",
    "        Father.__init__(self, father)\n",
    "        Mother.__init__(self, mother)\n",
    "        self.name = name\n",
    "\n",
    "        \n",
    "father = Father(\"John\")\n",
    "mother = Mother(\"Jane\")\n",
    "child = Child(\"Alex\", father, mother)\n",
    "\n",
    "\n",
    "print(child.name)  \n",
    "print(child.name)  \n",
    "print(child.name)  \n"
   ]
  },
  {
   "cell_type": "code",
   "execution_count": 2,
   "metadata": {},
   "outputs": [
    {
     "name": "stdout",
     "output_type": "stream",
     "text": [
      "Alex\n",
      "Jane\n",
      "Alex\n"
     ]
    }
   ],
   "source": [
    "class Father:\n",
    "    def __init__(self, name, mother):\n",
    "        self.name = name\n",
    "        self.mother = mother\n",
    "\n",
    "class Mother:\n",
    "    def __init__(self, name):\n",
    "        self.name = name\n",
    "\n",
    "class Child(Father):\n",
    "    def __init__(self, name, father_name, mother_name):\n",
    "        mother = Mother(mother_name)\n",
    "        Father.__init__(self, father_name, mother)\n",
    "        self.name = name\n",
    "\n",
    "# Create instances of the classes\n",
    "father_name = \"John\"\n",
    "mother_name = \"Jane\"\n",
    "child_name = \"Alex\"\n",
    "child = Child(child_name, father_name, mother_name)\n",
    "\n",
    "# Accessing attributes\n",
    "print(child.name)      # Output: Alex\n",
    "print(child.mother.name)  # Output: Jane\n",
    "print(child.name)      # Output: Alex\n"
   ]
  }
 ],
 "metadata": {
  "kernelspec": {
   "display_name": "Python 3",
   "language": "python",
   "name": "python3"
  },
  "language_info": {
   "codemirror_mode": {
    "name": "ipython",
    "version": 3
   },
   "file_extension": ".py",
   "mimetype": "text/x-python",
   "name": "python",
   "nbconvert_exporter": "python",
   "pygments_lexer": "ipython3",
   "version": "3.7.0"
  }
 },
 "nbformat": 4,
 "nbformat_minor": 2
}
