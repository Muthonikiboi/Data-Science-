{
 "cells": [
  {
   "cell_type": "markdown",
   "id": "65888879-8305-428c-8335-5ef0d42dd581",
   "metadata": {},
   "source": [
    "Numpy- Library used in numerical calculatioons."
   ]
  },
  {
   "cell_type": "code",
   "execution_count": 1,
   "id": "caaafe88-dd7e-460e-8d74-9196531778eb",
   "metadata": {},
   "outputs": [],
   "source": [
    "import numpy as np"
   ]
  },
  {
   "cell_type": "code",
   "execution_count": 2,
   "id": "00d417f4-effe-449d-99ae-844794ae262a",
   "metadata": {},
   "outputs": [],
   "source": [
    "list = [1, 2, 3, 4, 5, 6, 7]"
   ]
  },
  {
   "cell_type": "code",
   "execution_count": 3,
   "id": "23c0075a-ff6d-4f9c-a2c1-248931a3947d",
   "metadata": {},
   "outputs": [],
   "source": [
    "arr = np.array(list)"
   ]
  },
  {
   "cell_type": "code",
   "execution_count": 4,
   "id": "01c5ee56-91d4-4cc7-a391-96bf632e71bd",
   "metadata": {},
   "outputs": [
    {
     "name": "stdout",
     "output_type": "stream",
     "text": [
      "[1 2 3 4 5 6 7]\n"
     ]
    }
   ],
   "source": [
    "print(arr)"
   ]
  },
  {
   "cell_type": "markdown",
   "id": "f8acaca2-3dd1-4cb6-91c7-241d0b8dca33",
   "metadata": {},
   "source": [
    "## Multi-dimensional Arrays"
   ]
  },
  {
   "cell_type": "markdown",
   "id": "57e1fc22-dc44-4d3f-bf81-907f6016f9fb",
   "metadata": {},
   "source": [
    "### A multi-dimensional array is an array with more than one dimensions(axis). It allows storing and processing data efficiency(2D array)."
   ]
  },
  {
   "cell_type": "code",
   "execution_count": 6,
   "id": "67fd6679-9240-4d38-bf9d-4065ea71ad71",
   "metadata": {},
   "outputs": [
    {
     "name": "stdout",
     "output_type": "stream",
     "text": [
      "[[1 2 3]\n",
      " [4 5 6]]\n",
      "Shape: (2, 3)\n",
      "Dimensions: 2\n"
     ]
    }
   ],
   "source": [
    "arr_2 = np.array([[1, 2, 3],[4, 5, 6]])\n",
    "print(arr_2)\n",
    "print('Shape:' , arr_2.shape)\n",
    "print('Dimensions:' , arr_2.ndim)"
   ]
  },
  {
   "cell_type": "markdown",
   "id": "dbac9f81-d6ea-4fb5-b0c1-bbef94a17ae6",
   "metadata": {},
   "source": [
    "## Array Properties"
   ]
  },
  {
   "cell_type": "code",
   "execution_count": 8,
   "id": "2a7a33df-73b9-409d-875a-9061274b4889",
   "metadata": {},
   "outputs": [
    {
     "ename": "SyntaxError",
     "evalue": "invalid syntax (2202776423.py, line 3)",
     "output_type": "error",
     "traceback": [
      "\u001b[0;36m  File \u001b[0;32m\"/tmp/ipykernel_10551/2202776423.py\"\u001b[0;36m, line \u001b[0;32m3\u001b[0m\n\u001b[0;31m    print(arr_2.)\u001b[0m\n\u001b[0m                ^\u001b[0m\n\u001b[0;31mSyntaxError\u001b[0m\u001b[0;31m:\u001b[0m invalid syntax\n"
     ]
    }
   ],
   "source": [
    "print(arr_2.shape)\n",
    "print(arr_2.ndim)\n",
    "print(arr_2.)\n",
    "print(arr_2.)"
   ]
  },
  {
   "cell_type": "markdown",
   "id": "08ec4cd8-5369-4f81-a241-2f2bb86cda29",
   "metadata": {},
   "source": [
    "### Array Operations"
   ]
  },
  {
   "cell_type": "code",
   "execution_count": null,
   "id": "fec1b134-ac18-49df-89f9-1084366c1e30",
   "metadata": {},
   "outputs": [],
   "source": []
  }
 ],
 "metadata": {
  "kernelspec": {
   "display_name": "Python 3 (ipykernel)",
   "language": "python",
   "name": "python3"
  },
  "language_info": {
   "codemirror_mode": {
    "name": "ipython",
    "version": 3
   },
   "file_extension": ".py",
   "mimetype": "text/x-python",
   "name": "python",
   "nbconvert_exporter": "python",
   "pygments_lexer": "ipython3",
   "version": "3.10.12"
  }
 },
 "nbformat": 4,
 "nbformat_minor": 5
}
