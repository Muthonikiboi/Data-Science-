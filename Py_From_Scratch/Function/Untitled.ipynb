{
 "cells": [
  {
   "cell_type": "markdown",
   "id": "833acae8-2ae8-4098-bdbd-4a52207302f5",
   "metadata": {},
   "source": [
    "#Challenge 1"
   ]
  },
  {
   "cell_type": "code",
   "execution_count": 3,
   "id": "06a2b133-c9d0-4cd5-ae9e-9ae97dee79eb",
   "metadata": {},
   "outputs": [],
   "source": [
    "###Create a program that takes students subjects, calculates their average score ,grades the score and gives a comment.Prints out the name, average scrore and comment.Prompts the user to parse the name, subjects.Use Functions Conditional Statements(if else) and input().Use a for loop"
   ]
  },
  {
   "cell_type": "code",
   "execution_count": 5,
   "id": "cd54a80e-5fc0-4746-a6a0-05032e59bd54",
   "metadata": {},
   "outputs": [
    {
     "name": "stdin",
     "output_type": "stream",
     "text": [
      "Enter Your Name: Joy\n",
      "Enter Your Email kiboi@joy21@gmail.com\n"
     ]
    },
    {
     "name": "stdout",
     "output_type": "stream",
     "text": [
      "Name: Joy Email kiboi@joy21@gmail.com\n"
     ]
    }
   ],
   "source": [
    "def students_Detail(name, email):\n",
    "    print(f\"Name: {name} Email {email}\")\n",
    "\n",
    "name=input(\"Enter Your Name:\")\n",
    "email=input(\"Enter Your Email\")\n",
    "students_Detail(name,email)"
   ]
  },
  {
   "cell_type": "code",
   "execution_count": null,
   "id": "eed7d017-8d1e-4064-ab40-dbbde7549365",
   "metadata": {},
   "outputs": [],
   "source": []
  }
 ],
 "metadata": {
  "kernelspec": {
   "display_name": "Python 3 (ipykernel)",
   "language": "python",
   "name": "python3"
  },
  "language_info": {
   "codemirror_mode": {
    "name": "ipython",
    "version": 3
   },
   "file_extension": ".py",
   "mimetype": "text/x-python",
   "name": "python",
   "nbconvert_exporter": "python",
   "pygments_lexer": "ipython3",
   "version": "3.10.12"
  }
 },
 "nbformat": 4,
 "nbformat_minor": 5
}
