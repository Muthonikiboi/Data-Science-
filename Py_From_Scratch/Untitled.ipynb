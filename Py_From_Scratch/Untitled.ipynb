{
 "cells": [
  {
   "cell_type": "code",
   "execution_count": 4,
   "id": "912d4112-cbf7-498a-ab5d-5537bb578c12",
   "metadata": {},
   "outputs": [
    {
     "name": "stdout",
     "output_type": "stream",
     "text": [
      "0\n",
      "Joy\n",
      "1\n",
      "Lilian\n",
      "2\n",
      "David\n",
      "3\n",
      "Sharon\n",
      "4\n",
      "Lydia\n"
     ]
    }
   ],
   "source": [
    "names = [\"Joy\", \"Lilian\", \"David\", \"Sharon\", \"Lydia\"]\n",
    "nums = [0, 1, 2, 3, 4]\n",
    "char = ['a', 'b', 'c', 'd','e']\n",
    "for num in nums:\n",
    "    print(num)\n",
    "    print(names[num])"
   ]
  },
  {
   "cell_type": "code",
   "execution_count": 9,
   "id": "fe45d188-d143-4943-b552-dfb6004e3ab5",
   "metadata": {},
   "outputs": [
    {
     "name": "stdout",
     "output_type": "stream",
     "text": [
      "0\n",
      "1\n",
      "2\n",
      "3\n",
      "4\n",
      "\n",
      "\n",
      "Githaiga\n",
      "Francis\n",
      "Abdi\n",
      "Jane\n"
     ]
    },
    {
     "ename": "IndexError",
     "evalue": "list index out of range",
     "output_type": "error",
     "traceback": [
      "\u001b[0;31m---------------------------------------------------------------------------\u001b[0m",
      "\u001b[0;31mIndexError\u001b[0m                                Traceback (most recent call last)",
      "\u001b[0;32m/tmp/ipykernel_13006/3031190093.py\u001b[0m in \u001b[0;36m<module>\u001b[0;34m\u001b[0m\n\u001b[1;32m     13\u001b[0m \u001b[0mprint\u001b[0m\u001b[0;34m(\u001b[0m\u001b[0mnames\u001b[0m\u001b[0;34m[\u001b[0m\u001b[0;36m2\u001b[0m\u001b[0;34m]\u001b[0m\u001b[0;34m)\u001b[0m\u001b[0;34m\u001b[0m\u001b[0;34m\u001b[0m\u001b[0m\n\u001b[1;32m     14\u001b[0m \u001b[0mprint\u001b[0m\u001b[0;34m(\u001b[0m\u001b[0mnames\u001b[0m\u001b[0;34m[\u001b[0m\u001b[0;36m3\u001b[0m\u001b[0;34m]\u001b[0m\u001b[0;34m)\u001b[0m\u001b[0;34m\u001b[0m\u001b[0;34m\u001b[0m\u001b[0m\n\u001b[0;32m---> 15\u001b[0;31m \u001b[0mprint\u001b[0m\u001b[0;34m(\u001b[0m\u001b[0mnames\u001b[0m\u001b[0;34m[\u001b[0m\u001b[0;36m4\u001b[0m\u001b[0;34m]\u001b[0m\u001b[0;34m)\u001b[0m\u001b[0;34m\u001b[0m\u001b[0;34m\u001b[0m\u001b[0m\n\u001b[0m",
      "\u001b[0;31mIndexError\u001b[0m: list index out of range"
     ]
    }
   ],
   "source": [
    "nums = [0, 1, 2, 3, 4]\n",
    "names = [\"Githaiga\", \"Francis\", \"Abdi\", \"Jane\"]\n",
    "print(nums[0])\n",
    "print(nums[1])\n",
    "print(nums[2])\n",
    "print(nums[3])\n",
    "print(nums[4])\n",
    "\n",
    "print(\"\\n\")\n",
    "\n",
    "print(names[0])\n",
    "print(names[1])\n",
    "print(names[2])\n",
    "print(names[3])\n",
    "print(names[4])"
   ]
  },
  {
   "cell_type": "code",
   "execution_count": 13,
   "id": "f13f123b-8b3b-45f9-94eb-793b60b8aec5",
   "metadata": {},
   "outputs": [],
   "source": [
    "# for num in names:\n",
    "#     print(num, names[num])"
   ]
  },
  {
   "cell_type": "code",
   "execution_count": 14,
   "id": "f80b5625-b0ee-4077-96b5-3c245c962ba4",
   "metadata": {},
   "outputs": [
    {
     "name": "stdout",
     "output_type": "stream",
     "text": [
      "index 0 Name Githaiga\n",
      "index 1 Name Francis\n",
      "index 2 Name Abdi\n",
      "index 3 Name Jane\n",
      "index 4 Name John\n",
      "index 5 Name Tim\n"
     ]
    }
   ],
   "source": [
    "names = [\"Githaiga\", \"Francis\", \"Abdi\", \"Jane\", \"John\", \"Tim\"]\n",
    "for index , name in enumerate(names):\n",
    "    print(\"index\", index, \"Name\",name)"
   ]
  },
  {
   "cell_type": "code",
   "execution_count": null,
   "id": "375c07fc-ca03-44ab-9d01-3debd86e9d44",
   "metadata": {},
   "outputs": [],
   "source": [
    "##Nested "
   ]
  }
 ],
 "metadata": {
  "kernelspec": {
   "display_name": "Python 3 (ipykernel)",
   "language": "python",
   "name": "python3"
  },
  "language_info": {
   "codemirror_mode": {
    "name": "ipython",
    "version": 3
   },
   "file_extension": ".py",
   "mimetype": "text/x-python",
   "name": "python",
   "nbconvert_exporter": "python",
   "pygments_lexer": "ipython3",
   "version": "3.10.12"
  }
 },
 "nbformat": 4,
 "nbformat_minor": 5
}
