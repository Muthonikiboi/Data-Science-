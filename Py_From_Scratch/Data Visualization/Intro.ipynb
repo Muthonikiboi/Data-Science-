{
 "cells": [
  {
   "cell_type": "markdown",
   "id": "0e07f751-6760-49f5-b88a-906e2cbb0c80",
   "metadata": {},
   "source": [
    "## MATPLOTLIB"
   ]
  },
  {
   "cell_type": "code",
   "execution_count": 1,
   "id": "37c1980c-3ccc-49cc-8cb4-31646a523a0d",
   "metadata": {},
   "outputs": [],
   "source": [
    "### Python data visualization library for creating statistic and interractive visualization.It uses pyplot module to make it "
   ]
  },
  {
   "cell_type": "code",
   "execution_count": 2,
   "id": "0be7f02e-0eb6-4a9f-919c-caae33712322",
   "metadata": {},
   "outputs": [],
   "source": [
    "# Import necessary libraries\n",
    "import numpy as np # library for generating numerical data\n",
    "import pandas as pd # library for handling data in tabular format \n",
    "import matplotlib.pyplot as plt # library for plotting the visuals"
   ]
  },
  {
   "cell_type": "code",
   "execution_count": 3,
   "id": "6758c22d-d358-4a88-91f5-62ebd0ecba1e",
   "metadata": {},
   "outputs": [],
   "source": [
    "np.random.seed(10)\n",
    "\n",
    "data = {\n",
    "    \"Month\": ['Jan', 'Feb', 'Mar', 'Apr', 'May', 'Jun'],\n",
    "    \"Sales\": np.random.randint(200, 500, 6),\n",
    "    \"Customers\": np.random.randint(50, 200, 6),\n",
    "    \"Profit\": np.random.randint(50, 150, 6)\n",
    "}\n",
    "\n",
    "data1 = {\n",
    "    \"Month\": ['Jan', 'Feb', 'Mar', 'Apr', 'May', 'Jun'],\n",
    "    \"Sales\": np.random.randint(400, 1000, 6),\n",
    "    \"Customers\": np.random.randint(300, 500, 6),\n",
    "    \"Profit\": np.random.randint(150, 350, 6)\n",
    "}"
   ]
  },
  {
   "cell_type": "code",
   "execution_count": 4,
   "id": "cdbd83c7-8875-4ae1-9aa0-78a549097f05",
   "metadata": {},
   "outputs": [
    {
     "data": {
      "text/plain": [
       "{'Month': ['Jan', 'Feb', 'Mar', 'Apr', 'May', 'Jun'],\n",
       " 'Sales': array([465, 325, 215, 323, 356, 421]),\n",
       " 'Customers': array([163,  58, 123,  50,  90, 165]),\n",
       " 'Profit': array([ 66,  61, 104, 138, 112,  83])}"
      ]
     },
     "execution_count": 4,
     "metadata": {},
     "output_type": "execute_result"
    }
   ],
   "source": [
    "data"
   ]
  },
  {
   "cell_type": "code",
   "execution_count": 5,
   "id": "7efc06ed-2b02-4e56-a1e2-320076f1f68b",
   "metadata": {},
   "outputs": [
    {
     "data": {
      "text/plain": [
       "{'Month': ['Jan', 'Feb', 'Mar', 'Apr', 'May', 'Jun'],\n",
       " 'Sales': array([600, 454, 477, 853, 413, 809]),\n",
       " 'Customers': array([426, 441, 392, 386, 330, 458]),\n",
       " 'Profit': array([239, 290, 215, 181, 207, 186])}"
      ]
     },
     "execution_count": 5,
     "metadata": {},
     "output_type": "execute_result"
    }
   ],
   "source": [
    "data1"
   ]
  },
  {
   "cell_type": "code",
   "execution_count": 6,
   "id": "b093ce61-72a8-46c5-b542-ef03ec7c59fd",
   "metadata": {},
   "outputs": [
    {
     "data": {
      "text/html": [
       "<div>\n",
       "<style scoped>\n",
       "    .dataframe tbody tr th:only-of-type {\n",
       "        vertical-align: middle;\n",
       "    }\n",
       "\n",
       "    .dataframe tbody tr th {\n",
       "        vertical-align: top;\n",
       "    }\n",
       "\n",
       "    .dataframe thead th {\n",
       "        text-align: right;\n",
       "    }\n",
       "</style>\n",
       "<table border=\"1\" class=\"dataframe\">\n",
       "  <thead>\n",
       "    <tr style=\"text-align: right;\">\n",
       "      <th></th>\n",
       "      <th>Month</th>\n",
       "      <th>Sales</th>\n",
       "      <th>Customers</th>\n",
       "      <th>Profit</th>\n",
       "    </tr>\n",
       "  </thead>\n",
       "  <tbody>\n",
       "    <tr>\n",
       "      <th>0</th>\n",
       "      <td>Jan</td>\n",
       "      <td>465</td>\n",
       "      <td>163</td>\n",
       "      <td>66</td>\n",
       "    </tr>\n",
       "    <tr>\n",
       "      <th>1</th>\n",
       "      <td>Feb</td>\n",
       "      <td>325</td>\n",
       "      <td>58</td>\n",
       "      <td>61</td>\n",
       "    </tr>\n",
       "    <tr>\n",
       "      <th>2</th>\n",
       "      <td>Mar</td>\n",
       "      <td>215</td>\n",
       "      <td>123</td>\n",
       "      <td>104</td>\n",
       "    </tr>\n",
       "    <tr>\n",
       "      <th>3</th>\n",
       "      <td>Apr</td>\n",
       "      <td>323</td>\n",
       "      <td>50</td>\n",
       "      <td>138</td>\n",
       "    </tr>\n",
       "    <tr>\n",
       "      <th>4</th>\n",
       "      <td>May</td>\n",
       "      <td>356</td>\n",
       "      <td>90</td>\n",
       "      <td>112</td>\n",
       "    </tr>\n",
       "    <tr>\n",
       "      <th>5</th>\n",
       "      <td>Jun</td>\n",
       "      <td>421</td>\n",
       "      <td>165</td>\n",
       "      <td>83</td>\n",
       "    </tr>\n",
       "  </tbody>\n",
       "</table>\n",
       "</div>"
      ],
      "text/plain": [
       "  Month  Sales  Customers  Profit\n",
       "0   Jan    465        163      66\n",
       "1   Feb    325         58      61\n",
       "2   Mar    215        123     104\n",
       "3   Apr    323         50     138\n",
       "4   May    356         90     112\n",
       "5   Jun    421        165      83"
      ]
     },
     "execution_count": 6,
     "metadata": {},
     "output_type": "execute_result"
    }
   ],
   "source": [
    "df = pd.DataFrame(data)\n",
    "df"
   ]
  },
  {
   "cell_type": "code",
   "execution_count": 7,
   "id": "bdc9e8e2-9bd7-4a99-b917-d6b35f995a1a",
   "metadata": {},
   "outputs": [
    {
     "data": {
      "text/html": [
       "<div>\n",
       "<style scoped>\n",
       "    .dataframe tbody tr th:only-of-type {\n",
       "        vertical-align: middle;\n",
       "    }\n",
       "\n",
       "    .dataframe tbody tr th {\n",
       "        vertical-align: top;\n",
       "    }\n",
       "\n",
       "    .dataframe thead th {\n",
       "        text-align: right;\n",
       "    }\n",
       "</style>\n",
       "<table border=\"1\" class=\"dataframe\">\n",
       "  <thead>\n",
       "    <tr style=\"text-align: right;\">\n",
       "      <th></th>\n",
       "      <th>Month</th>\n",
       "      <th>Sales</th>\n",
       "      <th>Customers</th>\n",
       "      <th>Profit</th>\n",
       "    </tr>\n",
       "  </thead>\n",
       "  <tbody>\n",
       "    <tr>\n",
       "      <th>0</th>\n",
       "      <td>Jan</td>\n",
       "      <td>600</td>\n",
       "      <td>426</td>\n",
       "      <td>239</td>\n",
       "    </tr>\n",
       "    <tr>\n",
       "      <th>1</th>\n",
       "      <td>Feb</td>\n",
       "      <td>454</td>\n",
       "      <td>441</td>\n",
       "      <td>290</td>\n",
       "    </tr>\n",
       "    <tr>\n",
       "      <th>2</th>\n",
       "      <td>Mar</td>\n",
       "      <td>477</td>\n",
       "      <td>392</td>\n",
       "      <td>215</td>\n",
       "    </tr>\n",
       "    <tr>\n",
       "      <th>3</th>\n",
       "      <td>Apr</td>\n",
       "      <td>853</td>\n",
       "      <td>386</td>\n",
       "      <td>181</td>\n",
       "    </tr>\n",
       "    <tr>\n",
       "      <th>4</th>\n",
       "      <td>May</td>\n",
       "      <td>413</td>\n",
       "      <td>330</td>\n",
       "      <td>207</td>\n",
       "    </tr>\n",
       "    <tr>\n",
       "      <th>5</th>\n",
       "      <td>Jun</td>\n",
       "      <td>809</td>\n",
       "      <td>458</td>\n",
       "      <td>186</td>\n",
       "    </tr>\n",
       "  </tbody>\n",
       "</table>\n",
       "</div>"
      ],
      "text/plain": [
       "  Month  Sales  Customers  Profit\n",
       "0   Jan    600        426     239\n",
       "1   Feb    454        441     290\n",
       "2   Mar    477        392     215\n",
       "3   Apr    853        386     181\n",
       "4   May    413        330     207\n",
       "5   Jun    809        458     186"
      ]
     },
     "execution_count": 7,
     "metadata": {},
     "output_type": "execute_result"
    }
   ],
   "source": [
    "df_2 = pd.DataFrame(data1)\n",
    "df_2"
   ]
  },
  {
   "cell_type": "code",
   "execution_count": 8,
   "id": "5fe39ce0-41c5-46e4-b67f-6a60bdf683bd",
   "metadata": {},
   "outputs": [
    {
     "data": {
      "text/plain": [
       "0    Jan\n",
       "1    Feb\n",
       "2    Mar\n",
       "3    Apr\n",
       "4    May\n",
       "5    Jun\n",
       "Name: Month, dtype: object"
      ]
     },
     "execution_count": 8,
     "metadata": {},
     "output_type": "execute_result"
    }
   ],
   "source": [
    "df['Month']"
   ]
  },
  {
   "cell_type": "code",
   "execution_count": 13,
   "id": "60249803-70cd-4e02-8fa9-12593fe280ca",
   "metadata": {},
   "outputs": [
    {
     "data": {
      "image/png": "[encoded data removed]",
      "text/plain": [
       "<Figure size 720x504 with 1 Axes>"
      ]
     },
     "metadata": {
      "needs_background": "light"
     },
     "output_type": "display_data"
    }
   ],
   "source": [
    "plt.figure(figsize =(10,7))\n",
    "plt.plot(\n",
    "         df['Month'].to_numpy(),   # This is the X axis value\n",
    "         df['Sales'].to_numpy(),   # This is the Y axis\n",
    "         color = 'b',   #Color of the plot is blue\n",
    "         marker = 'o',  # Data point Marker you can also try X and see the markers\n",
    "         linestyle = '-', \n",
    "         label = 'Sales'\n",
    "        )\n",
    "\n",
    "plt.plot(\n",
    "         df_2['Month'].to_numpy(),   # This is the X axis value\n",
    "         df_2['Sales'].to_numpy(),   # This is the Y axis\n",
    "         color = 'r',   #Color of the plot is red \n",
    "         marker = 'o',  # Data point Marker you can also try X and see the markers\n",
    "         linestyle = '-', \n",
    "         label = 'Sales'\n",
    "        )\n",
    "\n",
    "plt.title('Sales vs Month') # Title of the Plot\n",
    "plt.xlabel('Months') # Title of the X Axis\n",
    "plt.ylabel('Sales') # Title of the Y Axiss\n",
    "# plt.legend() # Shows the Legend\n",
    "\n",
    "plt.show() #Visulize the plot"
   ]
  }
 ],
 "metadata": {
  "kernelspec": {
   "display_name": "Python 3 (ipykernel)",
   "language": "python",
   "name": "python3"
  },
  "language_info": {
   "codemirror_mode": {
    "name": "ipython",
    "version": 3
   },
   "file_extension": ".py",
   "mimetype": "text/x-python",
   "name": "python",
   "nbconvert_exporter": "python",
   "pygments_lexer": "ipython3",
   "version": "3.10.12"
  }
 },
 "nbformat": 4,
 "nbformat_minor": 5
}
