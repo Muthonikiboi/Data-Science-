{
 "cells": [
  {
   "cell_type": "code",
   "execution_count": 3,
   "metadata": {},
   "outputs": [
    {
     "name": "stdout",
     "output_type": "stream",
     "text": [
      "1\n",
      "4\n",
      "9\n",
      "16\n",
      "25\n",
      "36\n",
      "49\n"
     ]
    }
   ],
   "source": [
    " a=[1,2,3,4,5,6,7] \n",
    "for i in a: \n",
    "     print (i**2) "
   ]
  },
  {
   "cell_type": "code",
   "execution_count": 6,
   "metadata": {},
   "outputs": [
    {
     "name": "stdout",
     "output_type": "stream",
     "text": [
      "1 \t 1\n",
      "2 \t 4\n",
      "3 \t 9\n",
      "4 \t 16\n",
      "5 \t 25\n",
      "6 \t 36\n",
      "7 \t 49\n"
     ]
    }
   ],
   "source": [
    "n = 1 \n",
    "b=7\n",
    "while n <= b:\n",
    "    print (n, '\\t', n ** 2)\n",
    "    n += 1 "
   ]
  },
  {
   "cell_type": "code",
   "execution_count": 8,
   "metadata": {},
   "outputs": [
    {
     "name": "stdout",
     "output_type": "stream",
     "text": [
      "1\n",
      "4\n",
      "9\n",
      "16\n",
      "25\n",
      "36\n",
      "49\n"
     ]
    }
   ],
   "source": [
    "#to output using for loop\n",
    "def sqr_num(n):#this is the function named(we use def) and sqr takes parameter n\n",
    "    i = 1    #we initialize i\n",
    "    while i*i <= n: #the loop\n",
    "        print(i*i) #prints the output\n",
    "        i += 1   #increments\n",
    "\n",
    "sqr_num(50)\n"
   ]
  },
  {
   "cell_type": "code",
   "execution_count": 10,
   "metadata": {},
   "outputs": [
    {
     "name": "stdout",
     "output_type": "stream",
     "text": [
      "1\n",
      "4\n",
      "9\n",
      "16\n",
      "25\n",
      "36\n",
      "49\n"
     ]
    }
   ],
   "source": [
    "#code that uses for loop and has an argument for the  same\n",
    "def sqr_num(n):#func\n",
    "    for i in range(1, n+1):#the for loop\n",
    "        if i*i <= n:\n",
    "            print(i*i)\n",
    "\n",
    "sqr_num(50)#call the function"
   ]
  },
  {
   "cell_type": "code",
   "execution_count": 15,
   "metadata": {},
   "outputs": [
    {
     "name": "stdout",
     "output_type": "stream",
     "text": [
      "['mango', 'orrange', 'banana']\n"
     ]
    }
   ],
   "source": [
    "#listing of items\n",
    "thislist=[\"mango\",\"orrange\",\"banana\"]\n",
    "print(thislist)"
   ]
  },
  {
   "cell_type": "code",
   "execution_count": 18,
   "metadata": {},
   "outputs": [
    {
     "name": "stdout",
     "output_type": "stream",
     "text": [
      "['mango', 'orrange', 'banana']\n",
      "['Joy', 'Lilian', 'David']\n",
      "[['mango', 'orrange', 'banana'], ['Joy', 'Lilian', 'David']]\n"
     ]
    }
   ],
   "source": [
    "#concatinating a list\n",
    "thislist=[\"mango\",\"orrange\",\"banana\"]\n",
    "print(thislist)\n",
    "\n",
    "list2=[\"Joy\",\"Lilian\",\"David\"]\n",
    "print(list2)\n",
    "\n",
    "combine=[thislist,list2]\n",
    "print(combine)"
   ]
  },
  {
   "cell_type": "code",
   "execution_count": null,
   "metadata": {},
   "outputs": [],
   "source": [
    "  "
   ]
  }
 ],
 "metadata": {
  "kernelspec": {
   "display_name": "Python 3",
   "language": "python",
   "name": "python3"
  },
  "language_info": {
   "codemirror_mode": {
    "name": "ipython",
    "version": 3
   },
   "file_extension": ".py",
   "mimetype": "text/x-python",
   "name": "python",
   "nbconvert_exporter": "python",
   "pygments_lexer": "ipython3",
   "version": "3.7.0"
  }
 },
 "nbformat": 4,
 "nbformat_minor": 2
}
